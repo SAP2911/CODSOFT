{
  "nbformat": 4,
  "nbformat_minor": 0,
  "metadata": {
    "colab": {
      "provenance": []
    },
    "kernelspec": {
      "name": "python3",
      "display_name": "Python 3"
    },
    "language_info": {
      "name": "python"
    }
  },
  "cells": [
    {
      "cell_type": "code",
      "execution_count": 5,
      "metadata": {
        "id": "yP5mTZh7Vkfs"
      },
      "outputs": [],
      "source": [
        "import numpy as np\n",
        "import pandas as pd\n",
        "import difflib\n",
        "from sklearn.feature_extraction.text import TfidfVectorizer\n",
        "from sklearn.metrics.pairwise import cosine_similarity"
      ]
    },
    {
      "cell_type": "code",
      "source": [
        "# loading the data from the csv file to apandas dataframe\n",
        "movies_data = pd.read_csv('/content/drive/MyDrive/CODSOFT csv/movies.csv')"
      ],
      "metadata": {
        "id": "FGuS6EGAVnGY"
      },
      "execution_count": 6,
      "outputs": []
    },
    {
      "cell_type": "code",
      "source": [
        "# selecting the relevant features for recommendation\n",
        "\n",
        "selected_features = ['genres','keywords','tagline','cast','director']\n",
        "# replacing the null valuess with null string\n",
        "\n",
        "for feature in selected_features:\n",
        "  movies_data[feature] = movies_data[feature].fillna('')\n",
        "# combining all the 5 selected features\n",
        "\n",
        "combined_features = movies_data['genres']+' '+movies_data['keywords']+' '+movies_data['tagline']+' '+movies_data['cast']"
      ],
      "metadata": {
        "id": "zZglRouJVpur"
      },
      "execution_count": 7,
      "outputs": []
    },
    {
      "cell_type": "code",
      "source": [
        "#converting the text data to feature vectors\n",
        "vectorizer = TfidfVectorizer()\n",
        "feature_vectors = vectorizer.fit_transform(combined_features)\n",
        "# getting the similarity scores using cosine similarity\n",
        "\n",
        "similarity = cosine_similarity(feature_vectors)\n",
        "movie_name = input(' Enter your favourite movie name : ')\n",
        "\n",
        "list_of_all_titles = movies_data['title'].tolist()\n",
        "\n",
        "find_close_match = difflib.get_close_matches(movie_name, list_of_all_titles)\n",
        "\n",
        "close_match = find_close_match[0]\n",
        "\n",
        "index_of_the_movie = movies_data[movies_data.title == close_match]['index'].values[0]\n",
        "\n",
        "similarity_score = list(enumerate(similarity[index_of_the_movie]))\n",
        "\n",
        "sorted_similar_movies = sorted(similarity_score, key = lambda x:x[1], reverse = True)\n",
        "\n",
        "print('Movies suggested for you : \\n')\n",
        "\n",
        "i = 1\n",
        "\n",
        "for movie in sorted_similar_movies:\n",
        "  index = movie[0]\n",
        "  title_from_index = movies_data[movies_data.index==index]['title'].values[0]\n",
        "  if (i<30):\n",
        "    print(i, '.',title_from_index)\n",
        "    i+=1"
      ],
      "metadata": {
        "colab": {
          "base_uri": "https://localhost:8080/"
        },
        "id": "gy4OBgokVzdv",
        "outputId": "9634a80f-d4fc-4cf5-bfef-8a9ee97c35d9"
      },
      "execution_count": 8,
      "outputs": [
        {
          "output_type": "stream",
          "name": "stdout",
          "text": [
            " Enter your favourite movie name : Interstellar\n",
            "Movies suggested for you : \n",
            "\n",
            "1 . Interstellar\n",
            "2 . The Matrix\n",
            "3 . Dear Frankie\n",
            "4 . The Martian\n",
            "5 . The Matrix Revolutions\n",
            "6 . The Matrix Reloaded\n",
            "7 . The Terminator\n",
            "8 . Terminator Genisys\n",
            "9 . Gandhi, My Father\n",
            "10 . Contact\n",
            "11 . Terminator Salvation\n",
            "12 . The Tree of Life\n",
            "13 . Get Smart\n",
            "14 . Armageddon\n",
            "15 . Argo\n",
            "16 . Terminator 3: Rise of the Machines\n",
            "17 . The Dark Knight Rises\n",
            "18 . The Killer Inside Me\n",
            "19 . WarGames\n",
            "20 . The Vatican Exorcisms\n",
            "21 . Little Nicky\n",
            "22 . Good Deeds\n",
            "23 . Mamma Mia!\n",
            "24 . Gerry\n",
            "25 . Triple 9\n",
            "26 . To Die For\n",
            "27 . Snitch\n",
            "28 . Back to the Future\n",
            "29 . Mortal Kombat: Annihilation\n"
          ]
        }
      ]
    }
  ]
}